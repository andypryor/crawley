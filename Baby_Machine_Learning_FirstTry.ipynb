{
 "metadata": {
  "name": "",
  "signature": "sha256:e8e58c64f58524bc559287544908aaa88c8eb05d751f269bccbcf45c60de267d"
 },
 "nbformat": 3,
 "nbformat_minor": 0,
 "worksheets": [
  {
   "cells": [
    {
     "cell_type": "code",
     "collapsed": false,
     "input": [
      "from sklearn import datasets"
     ],
     "language": "python",
     "metadata": {},
     "outputs": [],
     "prompt_number": 1
    },
    {
     "cell_type": "code",
     "collapsed": false,
     "input": [
      "train_data = datasets.load_files('url_train', description=None, categories=None, load_content=True, shuffle=True, encoding='utf-8', charset=None, charset_error=None, decode_error='ignore', random_state=0)"
     ],
     "language": "python",
     "metadata": {},
     "outputs": [],
     "prompt_number": 2
    },
    {
     "cell_type": "code",
     "collapsed": false,
     "input": [
      "train_data.target_names"
     ],
     "language": "python",
     "metadata": {},
     "outputs": [
      {
       "metadata": {},
       "output_type": "pyout",
       "prompt_number": 3,
       "text": [
        "['good', 'junk']"
       ]
      }
     ],
     "prompt_number": 3
    },
    {
     "cell_type": "code",
     "collapsed": false,
     "input": [
      "len(train_data)"
     ],
     "language": "python",
     "metadata": {},
     "outputs": [
      {
       "metadata": {},
       "output_type": "pyout",
       "prompt_number": 4,
       "text": [
        "5"
       ]
      }
     ],
     "prompt_number": 4
    },
    {
     "cell_type": "code",
     "collapsed": false,
     "input": [
      "from sklearn.feature_extraction.text import CountVectorizer"
     ],
     "language": "python",
     "metadata": {},
     "outputs": [],
     "prompt_number": 5
    },
    {
     "cell_type": "code",
     "collapsed": false,
     "input": [
      "count_vect = CountVectorizer()\n",
      "test_cv = count_vect.fit_transform(train_data.data)\n",
      "test_cv.shape"
     ],
     "language": "python",
     "metadata": {},
     "outputs": [
      {
       "metadata": {},
       "output_type": "pyout",
       "prompt_number": 6,
       "text": [
        "(249, 11020)"
       ]
      }
     ],
     "prompt_number": 6
    },
    {
     "cell_type": "code",
     "collapsed": false,
     "input": [
      "from sklearn.naive_bayes import MultinomialNB\n",
      "from sklearn.pipeline import Pipeline\n",
      "from sklearn.feature_extraction.text import TfidfTransformer\n",
      "from sklearn.linear_model import SGDClassifier\n",
      "import numpy as np\n",
      "\n",
      "\n",
      "clf_huber = Pipeline([('vect', CountVectorizer()),\n",
      "                     ('tfidf', TfidfTransformer()),\n",
      "                     ('clf', SGDClassifier(loss='modified_huber',penalty='l2',alpha = 1e-3, n_iter=5))])\n",
      "clf_hinge = Pipeline([('vect', CountVectorizer()),\n",
      "                     ('tfidf', TfidfTransformer()),\n",
      "                     ('clf', SGDClassifier(loss='hinge',penalty='l2',alpha = 1e-3, n_iter=5))])\n",
      "clf_huber_w_ngram = Pipeline([('vect', CountVectorizer(ngram_range=(1,2))),\n",
      "                     ('tfidf', TfidfTransformer()),\n",
      "                     ('clf', SGDClassifier(loss='hinge',penalty='l2',alpha = 0.01, n_iter=5))])\n",
      "clf_multinom_w_ngram = Pipeline([('vect', CountVectorizer(ngram_range=(1,2))),\n",
      "                     ('tfidf', TfidfTransformer()),\n",
      "                     ('clf', MultinomialNB())])\n",
      "clf_multinom = Pipeline([('vect', CountVectorizer()),\n",
      "                     ('tfidf', TfidfTransformer()),\n",
      "                     ('clf', MultinomialNB())])"
     ],
     "language": "python",
     "metadata": {},
     "outputs": [],
     "prompt_number": 7
    },
    {
     "cell_type": "code",
     "collapsed": false,
     "input": [
      "clf_huber = clf_huber.fit(train_data.data, train_data.target)\n",
      "clf_hinge = clf_hinge.fit(train_data.data, train_data.target)\n",
      "clf_huber_w_ngram = clf_huber_w_ngram.fit(train_data.data, train_data.target)\n",
      "clf_multinom = clf_huber_w_ngram.fit(train_data.data, train_data.target)\n",
      "clf_multinom_w_ngram = clf_huber_w_ngram.fit(train_data.data, train_data.target)"
     ],
     "language": "python",
     "metadata": {},
     "outputs": [],
     "prompt_number": 13
    },
    {
     "cell_type": "code",
     "collapsed": false,
     "input": [
      "test_data = datasets.load_files('url_test', description=None, categories=None, load_content=True, shuffle=True, encoding='utf-8', charset=None, charset_error=None, decode_error='ignore', random_state=0)"
     ],
     "language": "python",
     "metadata": {},
     "outputs": [],
     "prompt_number": 14
    },
    {
     "cell_type": "code",
     "collapsed": false,
     "input": [
      "predicted_hinge = clf_hinge.predict(test_data.data)\n",
      "predicted_huber = clf_huber.predict(test_data.data)\n",
      "predicted_huber_w_ngram = clf_huber_w_ngram.predict(test_data.data)\n",
      "predicted_multinom = clf_multinom.predict(test_data.data)\n",
      "predicted_multinom_w_ngram = clf_multinom_w_ngram.predict(test_data.data)\n",
      "\n",
      "\n",
      "print 'huber: ',np.mean(predicted_huber == test_data.target)\n",
      "print 'hinge: ',np.mean(predicted_hinge == test_data.target)\n",
      "print 'huber w/ ngram: ',np.mean(predicted_huber_w_ngram == test_data.target)\n",
      "print 'multinom: ',np.mean(predicted_multinom == test_data.target)\n",
      "print 'multinom w/ ngram: ',np.mean(predicted_multinom_w_ngram == test_data.target)"
     ],
     "language": "python",
     "metadata": {},
     "outputs": [
      {
       "output_type": "stream",
       "stream": "stdout",
       "text": [
        "huber:  0.745967741935\n",
        "hinge:  0.75\n",
        "huber w/ ngram:  0.729838709677\n",
        "multinom:  0.729838709677\n",
        "multinom w/ ngram:  0.729838709677\n"
       ]
      }
     ],
     "prompt_number": 15
    },
    {
     "cell_type": "code",
     "collapsed": false,
     "input": [
      "from sklearn import metrics\n",
      "print 'HUBER:\\n', (metrics.classification_report(test_data.target,predicted_huber,target_names = test_data.target_names))\n",
      "print 'HINGE:\\n', (metrics.classification_report(test_data.target,predicted_hinge,target_names = test_data.target_names))\n",
      "print 'HINGE W/ NGRAM:\\n', (metrics.classification_report(test_data.target,predicted_huber_w_ngram,target_names = test_data.target_names))\n",
      "print 'MULTINOM:\\n', (metrics.classification_report(test_data.target,predicted_multinom,target_names = test_data.target_names))\n",
      "print 'MULTINOM W/ NGRAM:\\n', (metrics.classification_report(test_data.target,predicted_multinom_w_ngram,target_names = test_data.target_names))"
     ],
     "language": "python",
     "metadata": {},
     "outputs": [
      {
       "output_type": "stream",
       "stream": "stdout",
       "text": [
        "HUBER:\n",
        "             precision    recall  f1-score   support\n",
        "\n",
        "       good       0.56      0.28      0.38        67\n",
        "       junk       0.78      0.92      0.84       181\n",
        "\n",
        "avg / total       0.72      0.75      0.72       248\n",
        "\n",
        "HINGE:\n",
        "             precision    recall  f1-score   support\n",
        "\n",
        "       good       0.58      0.28      0.38        67\n",
        "       junk       0.78      0.92      0.84       181\n",
        "\n",
        "avg / total       0.72      0.75      0.72       248\n",
        "\n",
        "HINGE W/ NGRAM:\n",
        "             precision    recall  f1-score   support\n",
        "\n",
        "       good       0.00      0.00      0.00        67\n",
        "       junk       0.73      1.00      0.84       181\n",
        "\n",
        "avg / total       0.53      0.73      0.62       248\n",
        "\n",
        "MULTINOM:\n",
        "             precision    recall  f1-score   support\n",
        "\n",
        "       good       0.00      0.00      0.00        67\n",
        "       junk       0.73      1.00      0.84       181\n",
        "\n",
        "avg / total       0.53      0.73      0.62       248\n",
        "\n",
        "MULTINOM W/ NGRAM:\n",
        "             precision    recall  f1-score   support\n",
        "\n",
        "       good       0.00      0.00      0.00        67\n",
        "       junk       0.73      1.00      0.84       181\n",
        "\n",
        "avg / total       0.53      0.73      0.62       248\n",
        "\n"
       ]
      }
     ],
     "prompt_number": 16
    },
    {
     "cell_type": "code",
     "collapsed": false,
     "input": [
      "doc1 = \"Northwest Optimist Soccer: Staff PRESIDENT: If you have any questions regarding anything call one of the following numbers below. Dave Sargent: 495-5860 Email: jd.sargent@cox.net REGISTRAR: Dave Sargent: 495-5860 COMPETITIVE COORDINATOR: Dave Sargent: 495-5860 AGE GROUP COORDINATOR: If you have a question about what age group your child will play under call one of the following numbers: Under 6 Age Group Coordinator: Javier Lopez 440-2420 Under 8 Age Group Coordinator: Sean Satlow 371-1590 Under 10 Age Group Coordinator:Dave Sargent- 495-5860 Under 12-14-16 Coordinator: Dave Sargent 495-5860 Referee Assignor: Casey Smith 405-519-5694 Director of Academy Coaches:VACANT Director of\u2020Coaches: VACANT HOTLINE: 405.495.5860 Click here to sign up for email and text updates. NW Optimist Soccer Club - Mailing Address - 4605 N Stanley - Oklahoma City, OK 73122 - (405) 495-5860\"\n",
      "doc2 = \"Washington County Soccer Club | Home Contact Us Donate Multimedia Club Store Logo Goes Here About Us Club Information About Washington Coun... Club Philosophy Rescheduling games Latest WCSC Board Mee... Calendar of Events Board of Directors Mission Statement Bylaws of the WCSC Standing Resolutions ... Coaches List Spring 2... Practice Field Schedu... Maps & Directions Forms Donate History GCSA HISTORY WCSC MILESTONES BRUIN HIGH SCHOOL WCSC 1991-2001 WCSC 1978-1990 Photo Gallery Photo Submission Inst... Helpful Links Academy About FC Bartlesville... U9/U10 Boys Training Times and Lo... Schedules Game Coaches Registration Forms Competitive About FC Bartlesville... College Recruiting OPL Schedules Classic Schedules Code of Conduct FCB Coaching applicat... Team Pages Coaches and Trainers Wade Sturges Ryan Hunt Jordan Belong Justin Copeland David Critchley Mike Friend Allen Godwin Aaron Kuntz Justin Marshall Forms Recreational About WCSC Recreation... Schedules Forms BHS Bruin Boys JV & Varsi... Lady Bruin JV & Varsi... Forms Alumni Referees Ref Cheat Sheet Matri... Schedules Referee Payment Sched... Referee Assignments Clinics Referee Blog News & Events Calendar of Events Latest News ACADEMY + REGISTRATION ONLINE FCB Academy + Academy + is an additional program formed t ... ACADEMY + REGISTRATION ONLINE Feb 27, 2015 FALL LEAGUE CHAMPIONS WCSC would like to congratulate our league champions from this ... FALL LEAGUE CHAMPIONS Jan 27, 2015 FCB 99 GIRLS - INDOOR CHAMPS The FCB 99 Girls soccer team won the Soccer City U16 Competiti ... FCB 99 GIRLS - INDOOR CHAMPS Jan 14, 2015 Welcome to Washington County Soccer Club Welcome to Washington County Soccer Club (WCSC) located in Bartlesville Oklahoma. Established in 1978 as a nonprofit, WCSC is one of Oklahoma\u00eds original soccer clubs and has grown and flourished over the past 3 decades. Our geographical location allows us to give competitive and recreational soccer opportunities to the youth in areas of Northeastern Oklahoma and Southeastern Kansas. With having over 500 children playing in our soccer program each season, WCSC is committed to providing developmentally appropriate environments for all levels of players. We offer three distinct programs: Academy Soccer (ages 4-10), Competitive Soccer program (ages 11-18) and Recreational soccer (ages 11-18).\u2020 Coaches Blog Saturday, March 14th, 2015 Getting Players to Pay Attenti ... Saturday, March 7th, 2015 USSF Wants Small Sided Games Tuesday, March 3th, 2015 6 Reasons Parents Should Not W ... Tuesday, March 3th, 2015 See How the Adults Like It Friday, December 6th, 2013 Why Futsal? Friday, November 29th, 2013 Questions to Help Parents Eval ... Friday, November 22th, 2013 'Crazier than it's ever been' Friday, November 15th, 2013 Assistant Coaches: 'Be flexibl ... Friday, November 1th, 2013 Head coaches: 'Treat assistant ... Friday, October 25th, 2013 Getting the most out of assist ... Friday, October 18th, 2013 Ian McClurg on Youth Soccer Friday, October 11th, 2013 What does it take to be the be ... Friday, October 4th, 2013 Communication Between Coaches ... Friday, September 20th, 2013 Instilling respect, passion a ... Monday, September 16th, 2013 'Patience is crucial for coach ... Monday, September 9th, 2013 USA's No. 1 club aims to produ ... Friday, August 30th, 2013 Getting players to pay attenti ... Friday, August 23th, 2013 Tab Ramos: 'We want to play in ... Friday, August 16th, 2013 Sleep well, play well (The tee ... Friday, August 9th, 2013 Brad Friedel: World Class Keep ... Friday, August 9th, 2013 Keeper Qustions: Dressing, and ... Friday, August 2th, 2013 10 tips for the well-organized ... Friday, July 26th, 2013 Long, Hot Summer: Watch For He ... Friday, July 26th, 2013 Drink Up: Hydration Tips for S ... Monday, June 3th, 2013 Tryouts: Coping with Cuts Monday, April 8th, 2013 Mental Toughness Exercises Monday, April 1th, 2013 Practical Ideas for Your Coach ... Monday, March 25th, 2013 How To Develop The Best Youth ... Monday, March 25th, 2013 Youth Soccer Development: Ment ... Monday, March 18th, 2013 Coaching Kids to be Confident Monday, March 18th, 2013 Importance of Adversity in Pla ... Read More \u00aa Referee Blog Friday, September 6th, 2013 Winning's not everything: How ... Monday, September 2th, 2013 Positive thinking pays off Friday, August 30th, 2013 In the right spot, at the rig ... Monday, May 20th, 2013 Love Soccer? Become a Ref! Monday, March 18th, 2013 ASK THE REF: What Action Woul ... Read More \u00aa Field Status Robinwood Park Daniels Adams Lake Silverlake Follow Us On Bartlesville Adult Soccer League Green Country Soccer Association Green Country Member Clubs (with field maps) OKWU Men's Soccer OKWU Women's Soccer Oklahoma Soccer Association Teams Admin Pages Admin \u00a9 Copyright 2015 Washington County Soccer Club All Rights Reserved\"\n",
      "docs = [unicode(doc1, \"utf-8\"),unicode(doc2, \"utf-8\")]\n",
      "\n",
      "p_huber = clf_huber.predict(docs)\n",
      "p_hinge = clf_hinge.predict(docs)\n",
      "p_huber_w_ngram = clf_huber_w_ngram.predict(docs)\n",
      "p_multinom = clf_multinom.predict(docs)\n",
      "p_multinom_w_ngram =clf_multinom_w_ngram.predict(docs)\n",
      "\n",
      "\n",
      "#print \"huber:\"\n",
      "#for doc, category in zip(docs, p_huber):\n",
      "#    print('%r => %s' % (doc, test_data.target_names[category]))\n",
      "    \n",
      "#print \"hinge:\"\n",
      "#for doc, category in zip(docs, p_hinge):\n",
      "#    print('%r => %s' % (doc, test_data.target_names[category]))\n",
      "    \n",
      "#print \"huber w/ ngram:\"\n",
      "#for doc, category in zip(docs, p_huber_w_ngram):\n",
      "#    print('%r => %s' % (doc, test_data.target_names[category]))\n",
      "\n",
      "print \"huber:\" , p_huber\n",
      "print \"hinge:\" , p_hinge\n",
      "print \"huber w/ ngram:\" , p_huber_w_ngram\n",
      "print \"multinom:\" , p_multinom\n",
      "print \"multinom w/ ngram:\" , p_multinom_w_ngram"
     ],
     "language": "python",
     "metadata": {},
     "outputs": [
      {
       "output_type": "stream",
       "stream": "stdout",
       "text": [
        "huber: [1 1]\n",
        "hinge: [1 1]\n",
        "huber w/ ngram: [1 1]\n",
        "multinom: [1 1]\n",
        "multinom w/ ngram: [1 1]\n"
       ]
      }
     ],
     "prompt_number": 124
    },
    {
     "cell_type": "code",
     "collapsed": false,
     "input": [
      "from cassandra.cluster import Cluster\n",
      "\n",
      "cluster = Cluster(['10.103.8.13'])\n",
      "session = cluster.connect('webpage')\n",
      "\n",
      "good = []\n",
      "junk = []\n",
      "\n",
      "rows = session.execute('SELECT * FROM p LIMIT  20000')\n",
      "for row in rows:\n",
      "    p_huber_w_ngram = clf_hinge.predict([unicode(row.value, \"ISO-8859-1\")])\n",
      "    if p_huber_w_ngram == 1:\n",
      "        junk.append(p_huber_w_ngram)\n",
      "    if p_huber_w_ngram == 0:\n",
      "        good.append(p_huber_w_ngram)\n",
      "    #print p_huber_w_ngram\n",
      "        print row.key"
     ],
     "language": "python",
     "metadata": {},
     "outputs": [
      {
       "output_type": "stream",
       "stream": "stdout",
       "text": [
        "org.clsf.www:http/page/show/999518-staff\n",
        "org.clsf.www:http/page/show/999518-staff\n",
        "org.glsa.www:http/Default.aspx?tabid=193902"
       ]
      },
      {
       "output_type": "stream",
       "stream": "stdout",
       "text": [
        "\n",
        "org.glsa.www:http/Default.aspx?tabid=193902\n",
        "com.camptonunited.www:http/grassrootscoaching"
       ]
      },
      {
       "output_type": "stream",
       "stream": "stdout",
       "text": [
        "\n",
        "org.clsf.www:http/page/show/999535-staff"
       ]
      },
      {
       "output_type": "stream",
       "stream": "stdout",
       "text": [
        "\n",
        "net.chicagomagic.www:http/page/show/381198-coaching-contacts"
       ]
      },
      {
       "output_type": "stream",
       "stream": "stdout",
       "text": [
        "\n",
        "org.metroeastlegacy.www:http/Default.aspx?tabid=585666"
       ]
      },
      {
       "output_type": "stream",
       "stream": "stdout",
       "text": [
        "\n",
        "org.metroeastlegacy.www:http/Default.aspx?tabid=585666\n",
        "com.foxvalleybayernmunich.www:http/Default.aspx?tabid=667843"
       ]
      },
      {
       "output_type": "stream",
       "stream": "stdout",
       "text": [
        "\n",
        "org.usyouthsoccer.championships:http/regionI/Region_I_History/"
       ]
      },
      {
       "output_type": "stream",
       "stream": "stdout",
       "text": [
        "\n",
        "org.kicsunited.www:http/page/show/1351065-girls-high-school-clinic-dates-and-times"
       ]
      },
      {
       "output_type": "stream",
       "stream": "stdout",
       "text": [
        "\n",
        "org.arizonahammers.www:http/page/show/872136-staff"
       ]
      },
      {
       "output_type": "stream",
       "stream": "stdout",
       "text": [
        "\n",
        "net.kickersunited.www:http/Default.aspx?tabid=196263"
       ]
      },
      {
       "output_type": "stream",
       "stream": "stdout",
       "text": [
        "\n",
        "com.arizonaunitedsc.www:http/Staff.php"
       ]
      },
      {
       "output_type": "stream",
       "stream": "stdout",
       "text": [
        "\n",
        "com.elasoccer.www:http/page/show/1694114-coaching-staff"
       ]
      },
      {
       "output_type": "stream",
       "stream": "stdout",
       "text": [
        "\n",
        "net.chicagowind.www:http/coaching-staff"
       ]
      },
      {
       "output_type": "stream",
       "stream": "stdout",
       "text": [
        "\n",
        "com.camptonunited.www:http/page/show/461146-staff"
       ]
      },
      {
       "output_type": "stream",
       "stream": "stdout",
       "text": [
        "\n",
        "org.clsf.www:http/page/show/1666985-staff"
       ]
      },
      {
       "output_type": "stream",
       "stream": "stdout",
       "text": [
        "\n",
        "org.gatewayfc.www:http/Default.aspx?tabid=597211"
       ]
      },
      {
       "output_type": "stream",
       "stream": "stdout",
       "text": [
        "\n",
        "net.fcxsoccer.www:http/Default.aspx?tabid=192003"
       ]
      },
      {
       "output_type": "stream",
       "stream": "stdout",
       "text": [
        "\n",
        "net.fcxsoccer.www:http/Default.aspx?tabid=192003\n",
        "com.galaxysc.www:http/Default.aspx?tabid=274198"
       ]
      },
      {
       "output_type": "stream",
       "stream": "stdout",
       "text": [
        "\n",
        "com.chicagofirejuniorsnorth.www:http/page/show/1545451-staff"
       ]
      },
      {
       "output_type": "stream",
       "stream": "stdout",
       "text": [
        "\n",
        "org.kicsunited.www:http/page/show/1080581-staff"
       ]
      },
      {
       "output_type": "stream",
       "stream": "stdout",
       "text": [
        "\n",
        "it.brinch.www:http/oneside/"
       ]
      },
      {
       "output_type": "stream",
       "stream": "stdout",
       "text": [
        "\n",
        "org.glsa.www:http/Default.aspx?tabid=188602&mid=213983&newskeyid=HN3&newsid=30844&ctl=newsdetail"
       ]
      },
      {
       "output_type": "stream",
       "stream": "stdout",
       "text": [
        "\n",
        "net.eurosoccerclub.www:http/page/show/151530-coaching-staff\n",
        "org.dmoz.www:http/World/Korean/%EC%8A%A4%ED%8F%AC%EC%B8%A0/%EC%B6%95%EA%B5%AC"
       ]
      },
      {
       "output_type": "stream",
       "stream": "stdout",
       "text": [
        "\n",
        "net.chicagowind.www:http/component/content/article/37-headlines/137-headlines-coach-chris-a-coach-mirko"
       ]
      },
      {
       "output_type": "stream",
       "stream": "stdout",
       "text": [
        "\n"
       ]
      }
     ],
     "prompt_number": 19
    },
    {
     "cell_type": "code",
     "collapsed": false,
     "input": [
      "print len(junk)\n",
      "print len(good)"
     ],
     "language": "python",
     "metadata": {},
     "outputs": [
      {
       "output_type": "stream",
       "stream": "stdout",
       "text": [
        "19970\n",
        "30\n"
       ]
      }
     ],
     "prompt_number": 18
    },
    {
     "cell_type": "code",
     "collapsed": false,
     "input": [],
     "language": "python",
     "metadata": {},
     "outputs": []
    }
   ],
   "metadata": {}
  }
 ]
}